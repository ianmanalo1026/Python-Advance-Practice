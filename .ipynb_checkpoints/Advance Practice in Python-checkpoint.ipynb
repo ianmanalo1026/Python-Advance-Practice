{
 "cells": [
  {
   "cell_type": "code",
   "execution_count": 4,
   "id": "588ba6b8",
   "metadata": {},
   "outputs": [],
   "source": [
    "def linear_search(list, key):\n",
    "    \"\"\"If key is in the list returns its position in the list,\n",
    "       otherwise returns -1.\"\"\"\n",
    "    for i, item in enumerate(list):\n",
    "        if item == key:\n",
    "            return i\n",
    "    return -1\n"
   ]
  },
  {
   "cell_type": "code",
   "execution_count": 1,
   "id": "77622ba5",
   "metadata": {},
   "outputs": [],
   "source": [
    "def binary_search(list, key):\n",
    "    \"\"\"Returns the position of key in the list if found, -1 otherwise.\n",
    "\n",
    "    List must be sorted.\n",
    "    \"\"\"\n",
    "    left = 0\n",
    "    right = len(list) - 1\n",
    "    while left <= right:\n",
    "        middle = (left + right) // 2\n",
    "        \n",
    "        if list[middle] == key:\n",
    "            return middle\n",
    "        if list[middle] > key:\n",
    "            right = middle - 1\n",
    "        if list[middle] < key:\n",
    "            left = middle + 1\n",
    "    return -1\n",
    "\n",
    "\n"
   ]
  },
  {
   "cell_type": "code",
   "execution_count": 2,
   "id": "b09058f5",
   "metadata": {},
   "outputs": [
    {
     "name": "stdout",
     "output_type": "stream",
     "text": [
      "True\n",
      "False\n",
      "True\n",
      "False\n"
     ]
    }
   ],
   "source": [
    "#Binary Search Example\n",
    "def find_item(list, item):\n",
    "    list.sort()\n",
    "    #Returns True if the item is in the list, False if not.\n",
    "    if len(list) == 0:\n",
    "        return False\n",
    "\n",
    "    #Is the item in the center of the list?\n",
    "    middle = len(list)//2\n",
    "    if list[middle] == item:\n",
    "        return True\n",
    "\n",
    "    #Is the item in the first half of the list? \n",
    "    if item < list[middle]:\n",
    "    #Call the function with the first half of the list\n",
    "        return find_item(list[:middle], item)\n",
    "    else:\n",
    "    #Call the function with the second half of the list\n",
    "        return find_item(list[middle+1:], item)\n",
    "\n",
    "    return False\n",
    "\n",
    "#Do not edit below this line - This code helps check your work!\n",
    "list_of_names = [\"Parker\", \"Drew\", \"Cameron\", \"Logan\", \"Alex\", \"Chris\", \"Terry\", \"Jamie\", \"Jordan\", \"Taylor\"]\n",
    "\n",
    "print(find_item(list_of_names, \"Alex\")) # True\n",
    "print(find_item(list_of_names, \"Andrew\")) # False\n",
    "print(find_item(list_of_names, \"Drew\")) # True\n",
    "print(find_item(list_of_names, \"Jared\")) # False"
   ]
  },
  {
   "cell_type": "code",
   "execution_count": 1,
   "id": "293bcf56",
   "metadata": {},
   "outputs": [
    {
     "name": "stdout",
     "output_type": "stream",
     "text": [
      "Checking the left side\n",
      "Checking the left side\n",
      "0\n",
      "4\n",
      "Checking the right side\n",
      "Checking the left side\n",
      "Checking the right side\n",
      "6\n",
      "Checking the right side\n",
      "Checking the right side\n",
      "Checking the right side\n",
      "9\n",
      "Checking the right side\n",
      "Checking the right side\n",
      "Checking the right side\n",
      "Checking the right side\n",
      "-1\n"
     ]
    },
    {
     "data": {
      "text/plain": [
       "'Should print 4 debug lines and the \"not found\" value of -1:\\nChecking the right side\\nChecking the right side\\nChecking the right side\\nChecking the right side\\n-1\\n'"
      ]
     },
     "execution_count": 1,
     "metadata": {},
     "output_type": "execute_result"
    }
   ],
   "source": [
    "def binary_search(list, key):\n",
    "    #Returns the position of key in the list if found, -1 otherwise.\n",
    "\n",
    "    #List must be sorted:\n",
    "    list.sort()\n",
    "    left = 0\n",
    "    right = len(list) - 1\n",
    "\n",
    "    while left <= right:\n",
    "        middle = (left + right) // 2\n",
    "\n",
    "        if list[middle] == key:\n",
    "            return middle\n",
    "        if list[middle] > key:\n",
    "            print(\"Checking the left side\")\n",
    "            right = middle - 1\n",
    "        if list[middle] < key:\n",
    "            print(\"Checking the right side\")\n",
    "            left = middle + 1\n",
    "    return -1 \n",
    "\n",
    "\n",
    "print(binary_search([10, 2, 9, 6, 7, 1, 5, 3, 4, 8], 1))\n",
    "\"\"\"Should print 2 debug lines and the return value:\n",
    "Checking the left side\n",
    "Checking the left side\n",
    "0\n",
    "\"\"\"\n",
    "\n",
    "print(binary_search([1, 2, 3, 4, 5, 6, 7, 8, 9, 10], 5))\n",
    "\"\"\"Should print no debug lines, as it's located immediately:\n",
    "4\n",
    "\"\"\"\n",
    "\n",
    "print(binary_search([10, 9, 8, 7, 6, 5, 4, 3, 2, 1], 7))\n",
    "\"\"\"Should print 3 debug lines and the return value:\n",
    "Checking the right side\n",
    "Checking the left side\n",
    "Checking the right side\n",
    "6\n",
    "\"\"\"\n",
    "\n",
    "print(binary_search([1, 3, 5, 7, 9, 10, 2, 4, 6, 8], 10))\n",
    "\"\"\"Should print 3 debug lines and the return value:\n",
    "Checking the right side\n",
    "Checking the right side\n",
    "Checking the right side\n",
    "9\n",
    "\"\"\"\n",
    "\n",
    "print(binary_search([5, 1, 8, 2, 4, 10, 7, 6, 3, 9], 11))\n",
    "\"\"\"Should print 4 debug lines and the \"not found\" value of -1:\n",
    "Checking the right side\n",
    "Checking the right side\n",
    "Checking the right side\n",
    "Checking the right side\n",
    "-1\n",
    "\"\"\""
   ]
  },
  {
   "cell_type": "code",
   "execution_count": 3,
   "id": "f8245e23",
   "metadata": {},
   "outputs": [
    {
     "name": "stdout",
     "output_type": "stream",
     "text": [
      "<re.Match object; span=(0, 17), match='The rain in Spain'>\n"
     ]
    }
   ],
   "source": [
    "#Regular Expression practice\n",
    "import re\n",
    "\n",
    "import re\n",
    "\n",
    "txt = \"The rain in Spain\"\n",
    "x = re.search(\"^The.*Spain$\", txt)\n",
    "\n",
    "print(x)"
   ]
  },
  {
   "cell_type": "code",
   "execution_count": 4,
   "id": "ca30b3c9",
   "metadata": {},
   "outputs": [
    {
     "name": "stdout",
     "output_type": "stream",
     "text": [
      "Spain\n"
     ]
    }
   ],
   "source": [
    "txt = \"The rain in Spain\"\n",
    "x = re.search(r\"\\bS\\w+\", txt)\n",
    "print(x.group())"
   ]
  },
  {
   "cell_type": "code",
   "execution_count": null,
   "id": "7c65ace4",
   "metadata": {},
   "outputs": [],
   "source": []
  }
 ],
 "metadata": {
  "kernelspec": {
   "display_name": "Python 3 (ipykernel)",
   "language": "python",
   "name": "python3"
  },
  "language_info": {
   "codemirror_mode": {
    "name": "ipython",
    "version": 3
   },
   "file_extension": ".py",
   "mimetype": "text/x-python",
   "name": "python",
   "nbconvert_exporter": "python",
   "pygments_lexer": "ipython3",
   "version": "3.9.7"
  }
 },
 "nbformat": 4,
 "nbformat_minor": 5
}
